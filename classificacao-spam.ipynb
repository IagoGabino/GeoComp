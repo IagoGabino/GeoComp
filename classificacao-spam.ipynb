{
 "cells": [
  {
   "cell_type": "code",
   "execution_count": 21,
   "id": "ef1a830d",
   "metadata": {
    "_cell_guid": "b1076dfc-b9ad-4769-8c92-a6c4dae69d19",
    "_uuid": "8f2839f25d086af736a60e9eeb907d3b93b6e0e5",
    "execution": {
     "iopub.execute_input": "2021-11-15T14:05:05.587421Z",
     "iopub.status.busy": "2021-11-15T14:05:05.586182Z",
     "iopub.status.idle": "2021-11-15T14:05:05.598431Z",
     "shell.execute_reply": "2021-11-15T14:05:05.599228Z",
     "shell.execute_reply.started": "2021-11-10T14:54:46.034268Z"
    },
    "papermill": {
     "duration": 0.05054,
     "end_time": "2021-11-15T14:05:05.599686",
     "exception": false,
     "start_time": "2021-11-15T14:05:05.549146",
     "status": "completed"
    },
    "tags": []
   },
   "outputs": [],
   "source": [
    "#Estudo de caso 5 do curso de Introduação à Ciência de Dados Aplicada à Cibersegurança\n",
    "\n",
    "#Importando bibliotecas básicas\n",
    "\n",
    "import numpy as np # vetores e matrizes \n",
    "import pandas as pd # processamento dos dados, arquivo CSV I/O (e.g. pd.read_csv)\n",
    "\n",
    "# Input data files are available in the read-only \"../input/\" directory\n",
    "# For example, running this (by clicking run or pressing Shift+Enter) will list all files under the input directory\n",
    "\n",
    "import os\n",
    "for dirname, _, filenames in os.walk('/kaggle/input'):\n",
    "    for filename in filenames:\n",
    "        print(os.path.join(dirname, filename))\n",
    "\n",
    "# You can write up to 20GB to the current directory (/kaggle/working/) that gets preserved as output when you create a version using \"Save & Run All\" \n",
    "# You can also write temporary files to /kaggle/temp/, but they won't be saved outside of the current session"
   ]
  },
  {
   "cell_type": "code",
   "execution_count": 22,
   "id": "c1ca8842",
   "metadata": {
    "execution": {
     "iopub.execute_input": "2021-11-15T14:05:05.648545Z",
     "iopub.status.busy": "2021-11-15T14:05:05.647555Z",
     "iopub.status.idle": "2021-11-15T14:05:05.707147Z",
     "shell.execute_reply": "2021-11-15T14:05:05.707755Z",
     "shell.execute_reply.started": "2021-11-10T14:54:46.045299Z"
    },
    "papermill": {
     "duration": 0.08508,
     "end_time": "2021-11-15T14:05:05.708019",
     "exception": false,
     "start_time": "2021-11-15T14:05:05.622939",
     "status": "completed"
    },
    "tags": []
   },
   "outputs": [
    {
     "data": {
      "text/html": [
       "<div>\n",
       "<style scoped>\n",
       "    .dataframe tbody tr th:only-of-type {\n",
       "        vertical-align: middle;\n",
       "    }\n",
       "\n",
       "    .dataframe tbody tr th {\n",
       "        vertical-align: top;\n",
       "    }\n",
       "\n",
       "    .dataframe thead th {\n",
       "        text-align: right;\n",
       "    }\n",
       "</style>\n",
       "<table border=\"1\" class=\"dataframe\">\n",
       "  <thead>\n",
       "    <tr style=\"text-align: right;\">\n",
       "      <th></th>\n",
       "      <th>label</th>\n",
       "      <th>message</th>\n",
       "    </tr>\n",
       "  </thead>\n",
       "  <tbody>\n",
       "    <tr>\n",
       "      <th>0</th>\n",
       "      <td>ham</td>\n",
       "      <td>Go until jurong point, crazy.. Available only ...</td>\n",
       "    </tr>\n",
       "    <tr>\n",
       "      <th>1</th>\n",
       "      <td>ham</td>\n",
       "      <td>Ok lar... Joking wif u oni...</td>\n",
       "    </tr>\n",
       "    <tr>\n",
       "      <th>2</th>\n",
       "      <td>spam</td>\n",
       "      <td>Free entry in 2 a wkly comp to win FA Cup fina...</td>\n",
       "    </tr>\n",
       "    <tr>\n",
       "      <th>3</th>\n",
       "      <td>ham</td>\n",
       "      <td>U dun say so early hor... U c already then say...</td>\n",
       "    </tr>\n",
       "    <tr>\n",
       "      <th>4</th>\n",
       "      <td>ham</td>\n",
       "      <td>Nah I don't think he goes to usf, he lives aro...</td>\n",
       "    </tr>\n",
       "  </tbody>\n",
       "</table>\n",
       "</div>"
      ],
      "text/plain": [
       "  label                                            message\n",
       "0   ham  Go until jurong point, crazy.. Available only ...\n",
       "1   ham                      Ok lar... Joking wif u oni...\n",
       "2  spam  Free entry in 2 a wkly comp to win FA Cup fina...\n",
       "3   ham  U dun say so early hor... U c already then say...\n",
       "4   ham  Nah I don't think he goes to usf, he lives aro..."
      ]
     },
     "execution_count": 22,
     "metadata": {},
     "output_type": "execute_result"
    }
   ],
   "source": [
    "# Importando a base de dados para o pandas\n",
    "\n",
    "sms = pd.read_csv(\"spam.csv\", encoding = \"ISO-8859-1\", usecols=[0,1], skiprows=1,\n",
    "                  names=[\"label\", \"message\"])\n",
    "sms.head()"
   ]
  },
  {
   "cell_type": "code",
   "execution_count": 23,
   "id": "aeefbc49",
   "metadata": {
    "execution": {
     "iopub.execute_input": "2021-11-15T14:05:05.757027Z",
     "iopub.status.busy": "2021-11-15T14:05:05.756204Z",
     "iopub.status.idle": "2021-11-15T14:05:05.778197Z",
     "shell.execute_reply": "2021-11-15T14:05:05.778867Z",
     "shell.execute_reply.started": "2021-11-10T14:54:46.078303Z"
    },
    "papermill": {
     "duration": 0.047382,
     "end_time": "2021-11-15T14:05:05.779115",
     "exception": false,
     "start_time": "2021-11-15T14:05:05.731733",
     "status": "completed"
    },
    "tags": []
   },
   "outputs": [],
   "source": [
    "sms.label = sms.label.map({\"ham\":0, \"spam\":1})"
   ]
  },
  {
   "cell_type": "code",
   "execution_count": 24,
   "id": "f9669bd7",
   "metadata": {
    "execution": {
     "iopub.execute_input": "2021-11-15T14:05:05.823749Z",
     "iopub.status.busy": "2021-11-15T14:05:05.822852Z",
     "iopub.status.idle": "2021-11-15T14:05:05.833191Z",
     "shell.execute_reply": "2021-11-15T14:05:05.833722Z",
     "shell.execute_reply.started": "2021-11-10T14:54:46.085937Z"
    },
    "papermill": {
     "duration": 0.036287,
     "end_time": "2021-11-15T14:05:05.833991",
     "exception": false,
     "start_time": "2021-11-15T14:05:05.797704",
     "status": "completed"
    },
    "tags": []
   },
   "outputs": [
    {
     "data": {
      "text/plain": [
       "label\n",
       "0    4825\n",
       "1     747\n",
       "Name: count, dtype: int64"
      ]
     },
     "execution_count": 24,
     "metadata": {},
     "output_type": "execute_result"
    }
   ],
   "source": [
    "# mais casos negativos (ham) que positivos (spams) \n",
    "sms.label.value_counts()"
   ]
  },
  {
   "cell_type": "code",
   "execution_count": 25,
   "id": "5c6dcdd0",
   "metadata": {
    "execution": {
     "iopub.execute_input": "2021-11-15T14:05:05.880282Z",
     "iopub.status.busy": "2021-11-15T14:05:05.879544Z",
     "iopub.status.idle": "2021-11-15T14:05:07.186719Z",
     "shell.execute_reply": "2021-11-15T14:05:07.184396Z",
     "shell.execute_reply.started": "2021-11-10T14:54:46.106004Z"
    },
    "papermill": {
     "duration": 1.331978,
     "end_time": "2021-11-15T14:05:07.187491",
     "exception": false,
     "start_time": "2021-11-15T14:05:05.855513",
     "status": "completed"
    },
    "tags": []
   },
   "outputs": [],
   "source": [
    "#Dividindo a base em treino e teste\n",
    "from sklearn.model_selection import train_test_split\n",
    "features_train, features_test, labels_train, labels_test = train_test_split(sms.message, \n",
    "                                                                            sms.label, \n",
    "                                                                            test_size=0.2)"
   ]
  },
  {
   "cell_type": "code",
   "execution_count": 26,
   "id": "187d7e20",
   "metadata": {
    "execution": {
     "iopub.execute_input": "2021-11-15T14:05:07.232010Z",
     "iopub.status.busy": "2021-11-15T14:05:07.230806Z",
     "iopub.status.idle": "2021-11-15T14:05:07.413976Z",
     "shell.execute_reply": "2021-11-15T14:05:07.413180Z",
     "shell.execute_reply.started": "2021-11-10T14:54:46.117917Z"
    },
    "papermill": {
     "duration": 0.205324,
     "end_time": "2021-11-15T14:05:07.414146",
     "exception": false,
     "start_time": "2021-11-15T14:05:07.208822",
     "status": "completed"
    },
    "tags": []
   },
   "outputs": [
    {
     "data": {
      "text/html": [
       "<style>#sk-container-id-2 {color: black;background-color: white;}#sk-container-id-2 pre{padding: 0;}#sk-container-id-2 div.sk-toggleable {background-color: white;}#sk-container-id-2 label.sk-toggleable__label {cursor: pointer;display: block;width: 100%;margin-bottom: 0;padding: 0.3em;box-sizing: border-box;text-align: center;}#sk-container-id-2 label.sk-toggleable__label-arrow:before {content: \"▸\";float: left;margin-right: 0.25em;color: #696969;}#sk-container-id-2 label.sk-toggleable__label-arrow:hover:before {color: black;}#sk-container-id-2 div.sk-estimator:hover label.sk-toggleable__label-arrow:before {color: black;}#sk-container-id-2 div.sk-toggleable__content {max-height: 0;max-width: 0;overflow: hidden;text-align: left;background-color: #f0f8ff;}#sk-container-id-2 div.sk-toggleable__content pre {margin: 0.2em;color: black;border-radius: 0.25em;background-color: #f0f8ff;}#sk-container-id-2 input.sk-toggleable__control:checked~div.sk-toggleable__content {max-height: 200px;max-width: 100%;overflow: auto;}#sk-container-id-2 input.sk-toggleable__control:checked~label.sk-toggleable__label-arrow:before {content: \"▾\";}#sk-container-id-2 div.sk-estimator input.sk-toggleable__control:checked~label.sk-toggleable__label {background-color: #d4ebff;}#sk-container-id-2 div.sk-label input.sk-toggleable__control:checked~label.sk-toggleable__label {background-color: #d4ebff;}#sk-container-id-2 input.sk-hidden--visually {border: 0;clip: rect(1px 1px 1px 1px);clip: rect(1px, 1px, 1px, 1px);height: 1px;margin: -1px;overflow: hidden;padding: 0;position: absolute;width: 1px;}#sk-container-id-2 div.sk-estimator {font-family: monospace;background-color: #f0f8ff;border: 1px dotted black;border-radius: 0.25em;box-sizing: border-box;margin-bottom: 0.5em;}#sk-container-id-2 div.sk-estimator:hover {background-color: #d4ebff;}#sk-container-id-2 div.sk-parallel-item::after {content: \"\";width: 100%;border-bottom: 1px solid gray;flex-grow: 1;}#sk-container-id-2 div.sk-label:hover label.sk-toggleable__label {background-color: #d4ebff;}#sk-container-id-2 div.sk-serial::before {content: \"\";position: absolute;border-left: 1px solid gray;box-sizing: border-box;top: 0;bottom: 0;left: 50%;z-index: 0;}#sk-container-id-2 div.sk-serial {display: flex;flex-direction: column;align-items: center;background-color: white;padding-right: 0.2em;padding-left: 0.2em;position: relative;}#sk-container-id-2 div.sk-item {position: relative;z-index: 1;}#sk-container-id-2 div.sk-parallel {display: flex;align-items: stretch;justify-content: center;background-color: white;position: relative;}#sk-container-id-2 div.sk-item::before, #sk-container-id-2 div.sk-parallel-item::before {content: \"\";position: absolute;border-left: 1px solid gray;box-sizing: border-box;top: 0;bottom: 0;left: 50%;z-index: -1;}#sk-container-id-2 div.sk-parallel-item {display: flex;flex-direction: column;z-index: 1;position: relative;background-color: white;}#sk-container-id-2 div.sk-parallel-item:first-child::after {align-self: flex-end;width: 50%;}#sk-container-id-2 div.sk-parallel-item:last-child::after {align-self: flex-start;width: 50%;}#sk-container-id-2 div.sk-parallel-item:only-child::after {width: 0;}#sk-container-id-2 div.sk-dashed-wrapped {border: 1px dashed gray;margin: 0 0.4em 0.5em 0.4em;box-sizing: border-box;padding-bottom: 0.4em;background-color: white;}#sk-container-id-2 div.sk-label label {font-family: monospace;font-weight: bold;display: inline-block;line-height: 1.2em;}#sk-container-id-2 div.sk-label-container {text-align: center;}#sk-container-id-2 div.sk-container {/* jupyter's `normalize.less` sets `[hidden] { display: none; }` but bootstrap.min.css set `[hidden] { display: none !important; }` so we also need the `!important` here to be able to override the default hidden behavior on the sphinx rendered scikit-learn.org. See: https://github.com/scikit-learn/scikit-learn/issues/21755 */display: inline-block !important;position: relative;}#sk-container-id-2 div.sk-text-repr-fallback {display: none;}</style><div id=\"sk-container-id-2\" class=\"sk-top-container\"><div class=\"sk-text-repr-fallback\"><pre>CountVectorizer()</pre><b>In a Jupyter environment, please rerun this cell to show the HTML representation or trust the notebook. <br />On GitHub, the HTML representation is unable to render, please try loading this page with nbviewer.org.</b></div><div class=\"sk-container\" hidden><div class=\"sk-item\"><div class=\"sk-estimator sk-toggleable\"><input class=\"sk-toggleable__control sk-hidden--visually\" id=\"sk-estimator-id-2\" type=\"checkbox\" checked><label for=\"sk-estimator-id-2\" class=\"sk-toggleable__label sk-toggleable__label-arrow\">CountVectorizer</label><div class=\"sk-toggleable__content\"><pre>CountVectorizer()</pre></div></div></div></div></div>"
      ],
      "text/plain": [
       "CountVectorizer()"
      ]
     },
     "execution_count": 26,
     "metadata": {},
     "output_type": "execute_result"
    }
   ],
   "source": [
    "# Criando o documento de treino\n",
    "\n",
    "from sklearn.feature_extraction.text import CountVectorizer\n",
    "\n",
    "couvec = CountVectorizer()\n",
    "couvec.fit(features_train)"
   ]
  },
  {
   "cell_type": "code",
   "execution_count": 27,
   "id": "19b82849",
   "metadata": {
    "execution": {
     "iopub.execute_input": "2021-11-15T14:05:07.469482Z",
     "iopub.status.busy": "2021-11-15T14:05:07.468369Z",
     "iopub.status.idle": "2021-11-15T14:05:07.473016Z",
     "shell.execute_reply": "2021-11-15T14:05:07.472408Z",
     "shell.execute_reply.started": "2021-11-10T14:54:46.246639Z"
    },
    "papermill": {
     "duration": 0.037166,
     "end_time": "2021-11-15T14:05:07.473184",
     "exception": false,
     "start_time": "2021-11-15T14:05:07.436018",
     "status": "completed"
    },
    "tags": []
   },
   "outputs": [
    {
     "name": "stdout",
     "output_type": "stream",
     "text": [
      "Número de características vetorizadas: 7769\n",
      "Exemplos de características treinadas: ['000' '008704050406' '0121' '01223585236' '01223585334' '0125698789' '02'\n",
      " '0207' '02072069400']\n"
     ]
    }
   ],
   "source": [
    "# número de características ou tokens\n",
    "trained_features = couvec.get_feature_names_out()\n",
    "print(\"Número de características vetorizadas:\", len(trained_features))\n",
    "print(\"Exemplos de características treinadas:\", trained_features[1:10])"
   ]
  },
  {
   "cell_type": "code",
   "execution_count": 28,
   "id": "ac8c023e",
   "metadata": {
    "execution": {
     "iopub.execute_input": "2021-11-15T14:05:07.545715Z",
     "iopub.status.busy": "2021-11-15T14:05:07.540545Z",
     "iopub.status.idle": "2021-11-15T14:05:07.692795Z",
     "shell.execute_reply": "2021-11-15T14:05:07.691755Z",
     "shell.execute_reply.started": "2021-11-10T14:54:46.258561Z"
    },
    "papermill": {
     "duration": 0.198735,
     "end_time": "2021-11-15T14:05:07.693015",
     "exception": false,
     "start_time": "2021-11-15T14:05:07.494280",
     "status": "completed"
    },
    "tags": []
   },
   "outputs": [
    {
     "name": "stdout",
     "output_type": "stream",
     "text": [
      "Shape of dtm_train: (4457, 7769)\n",
      "  (0, 878)\t1\n",
      "  (0, 922)\t1\n",
      "  (0, 5034)\t1\n",
      "  (0, 2697)\t1\n",
      "  (0, 4964)\t1\n",
      "  (0, 2497)\t1\n",
      "  (0, 757)\t1\n",
      "  (0, 4459)\t1\n",
      "  (0, 6091)\t1\n",
      "  (0, 3377)\t1\n",
      "  (0, 5748)\t2\n",
      "  (0, 2879)\t1\n",
      "  (0, 6920)\t1\n",
      "  (0, 6298)\t2\n",
      "  (0, 2789)\t1\n",
      "  (0, 4287)\t1\n",
      "  (0, 4855)\t1\n",
      "  (0, 7600)\t1\n",
      "  (0, 3559)\t1\n",
      "  (0, 3214)\t1\n",
      "  (0, 1225)\t1\n",
      "  (0, 1581)\t1\n",
      "  (0, 7212)\t1\n",
      "  (0, 6606)\t1\n",
      "  (0, 860)\t1\n",
      "  (0, 3110)\t1\n",
      "  (1, 4941)\t1\n",
      "  (1, 5067)\t1\n",
      "  (1, 4859)\t1\n",
      "  (1, 5460)\t1\n"
     ]
    }
   ],
   "source": [
    "# tokenized train documents\n",
    "\n",
    "dtm_train = couvec.fit_transform(features_train)\n",
    "print(\"Shape of dtm_train:\", dtm_train.shape)\n",
    "print(dtm_train[0:2]) # first two rows of sparse matrix"
   ]
  },
  {
   "cell_type": "code",
   "execution_count": 29,
   "id": "adbbf20e",
   "metadata": {
    "execution": {
     "iopub.execute_input": "2021-11-15T14:05:07.747707Z",
     "iopub.status.busy": "2021-11-15T14:05:07.744393Z",
     "iopub.status.idle": "2021-11-15T14:05:07.782708Z",
     "shell.execute_reply": "2021-11-15T14:05:07.781862Z",
     "shell.execute_reply.started": "2021-11-10T14:54:46.392227Z"
    },
    "papermill": {
     "duration": 0.06769,
     "end_time": "2021-11-15T14:05:07.782908",
     "exception": false,
     "start_time": "2021-11-15T14:05:07.715218",
     "status": "completed"
    },
    "tags": []
   },
   "outputs": [
    {
     "name": "stdout",
     "output_type": "stream",
     "text": [
      "Shape of dtm_test: (1115, 7769)\n"
     ]
    }
   ],
   "source": [
    "# tokenized test documents\n",
    "\n",
    "dtm_test = couvec.transform(features_test)\n",
    "print(\"Shape of dtm_test:\", dtm_test.shape)"
   ]
  },
  {
   "cell_type": "code",
   "execution_count": 30,
   "id": "1a0ce1a7",
   "metadata": {
    "execution": {
     "iopub.execute_input": "2021-11-15T14:05:07.835753Z",
     "iopub.status.busy": "2021-11-15T14:05:07.833389Z",
     "iopub.status.idle": "2021-11-15T14:05:07.842160Z",
     "shell.execute_reply": "2021-11-15T14:05:07.842749Z",
     "shell.execute_reply.started": "2021-11-10T14:54:46.432925Z"
    },
    "papermill": {
     "duration": 0.036549,
     "end_time": "2021-11-15T14:05:07.843017",
     "exception": false,
     "start_time": "2021-11-15T14:05:07.806468",
     "status": "completed"
    },
    "tags": []
   },
   "outputs": [],
   "source": [
    "# Construíndo e avaliando o modelo \n",
    "\n",
    "# Multimodal Naive Bayes \n",
    "# O classificador multimodal Naive Bays é útil para classificar características discretas. \n",
    "# (e.g., número de palavras para classificação de textos). \n",
    "# A distribuição multimodal requer geralmente contadores inteiros como features.\n",
    "\n",
    "# Importando e instanciando o modelo Nayve Bayes Multimodal\n",
    "from sklearn.naive_bayes import MultinomialNB\n",
    "nb = MultinomialNB()"
   ]
  },
  {
   "cell_type": "code",
   "execution_count": 31,
   "id": "b50d7189",
   "metadata": {
    "execution": {
     "iopub.execute_input": "2021-11-15T14:05:07.892844Z",
     "iopub.status.busy": "2021-11-15T14:05:07.892067Z",
     "iopub.status.idle": "2021-11-15T14:05:07.901282Z",
     "shell.execute_reply": "2021-11-15T14:05:07.901983Z",
     "shell.execute_reply.started": "2021-11-10T14:54:46.440874Z"
    },
    "papermill": {
     "duration": 0.036323,
     "end_time": "2021-11-15T14:05:07.902187",
     "exception": false,
     "start_time": "2021-11-15T14:05:07.865864",
     "status": "completed"
    },
    "tags": []
   },
   "outputs": [
    {
     "data": {
      "text/html": [
       "<style>#sk-container-id-3 {color: black;background-color: white;}#sk-container-id-3 pre{padding: 0;}#sk-container-id-3 div.sk-toggleable {background-color: white;}#sk-container-id-3 label.sk-toggleable__label {cursor: pointer;display: block;width: 100%;margin-bottom: 0;padding: 0.3em;box-sizing: border-box;text-align: center;}#sk-container-id-3 label.sk-toggleable__label-arrow:before {content: \"▸\";float: left;margin-right: 0.25em;color: #696969;}#sk-container-id-3 label.sk-toggleable__label-arrow:hover:before {color: black;}#sk-container-id-3 div.sk-estimator:hover label.sk-toggleable__label-arrow:before {color: black;}#sk-container-id-3 div.sk-toggleable__content {max-height: 0;max-width: 0;overflow: hidden;text-align: left;background-color: #f0f8ff;}#sk-container-id-3 div.sk-toggleable__content pre {margin: 0.2em;color: black;border-radius: 0.25em;background-color: #f0f8ff;}#sk-container-id-3 input.sk-toggleable__control:checked~div.sk-toggleable__content {max-height: 200px;max-width: 100%;overflow: auto;}#sk-container-id-3 input.sk-toggleable__control:checked~label.sk-toggleable__label-arrow:before {content: \"▾\";}#sk-container-id-3 div.sk-estimator input.sk-toggleable__control:checked~label.sk-toggleable__label {background-color: #d4ebff;}#sk-container-id-3 div.sk-label input.sk-toggleable__control:checked~label.sk-toggleable__label {background-color: #d4ebff;}#sk-container-id-3 input.sk-hidden--visually {border: 0;clip: rect(1px 1px 1px 1px);clip: rect(1px, 1px, 1px, 1px);height: 1px;margin: -1px;overflow: hidden;padding: 0;position: absolute;width: 1px;}#sk-container-id-3 div.sk-estimator {font-family: monospace;background-color: #f0f8ff;border: 1px dotted black;border-radius: 0.25em;box-sizing: border-box;margin-bottom: 0.5em;}#sk-container-id-3 div.sk-estimator:hover {background-color: #d4ebff;}#sk-container-id-3 div.sk-parallel-item::after {content: \"\";width: 100%;border-bottom: 1px solid gray;flex-grow: 1;}#sk-container-id-3 div.sk-label:hover label.sk-toggleable__label {background-color: #d4ebff;}#sk-container-id-3 div.sk-serial::before {content: \"\";position: absolute;border-left: 1px solid gray;box-sizing: border-box;top: 0;bottom: 0;left: 50%;z-index: 0;}#sk-container-id-3 div.sk-serial {display: flex;flex-direction: column;align-items: center;background-color: white;padding-right: 0.2em;padding-left: 0.2em;position: relative;}#sk-container-id-3 div.sk-item {position: relative;z-index: 1;}#sk-container-id-3 div.sk-parallel {display: flex;align-items: stretch;justify-content: center;background-color: white;position: relative;}#sk-container-id-3 div.sk-item::before, #sk-container-id-3 div.sk-parallel-item::before {content: \"\";position: absolute;border-left: 1px solid gray;box-sizing: border-box;top: 0;bottom: 0;left: 50%;z-index: -1;}#sk-container-id-3 div.sk-parallel-item {display: flex;flex-direction: column;z-index: 1;position: relative;background-color: white;}#sk-container-id-3 div.sk-parallel-item:first-child::after {align-self: flex-end;width: 50%;}#sk-container-id-3 div.sk-parallel-item:last-child::after {align-self: flex-start;width: 50%;}#sk-container-id-3 div.sk-parallel-item:only-child::after {width: 0;}#sk-container-id-3 div.sk-dashed-wrapped {border: 1px dashed gray;margin: 0 0.4em 0.5em 0.4em;box-sizing: border-box;padding-bottom: 0.4em;background-color: white;}#sk-container-id-3 div.sk-label label {font-family: monospace;font-weight: bold;display: inline-block;line-height: 1.2em;}#sk-container-id-3 div.sk-label-container {text-align: center;}#sk-container-id-3 div.sk-container {/* jupyter's `normalize.less` sets `[hidden] { display: none; }` but bootstrap.min.css set `[hidden] { display: none !important; }` so we also need the `!important` here to be able to override the default hidden behavior on the sphinx rendered scikit-learn.org. See: https://github.com/scikit-learn/scikit-learn/issues/21755 */display: inline-block !important;position: relative;}#sk-container-id-3 div.sk-text-repr-fallback {display: none;}</style><div id=\"sk-container-id-3\" class=\"sk-top-container\"><div class=\"sk-text-repr-fallback\"><pre>MultinomialNB()</pre><b>In a Jupyter environment, please rerun this cell to show the HTML representation or trust the notebook. <br />On GitHub, the HTML representation is unable to render, please try loading this page with nbviewer.org.</b></div><div class=\"sk-container\" hidden><div class=\"sk-item\"><div class=\"sk-estimator sk-toggleable\"><input class=\"sk-toggleable__control sk-hidden--visually\" id=\"sk-estimator-id-3\" type=\"checkbox\" checked><label for=\"sk-estimator-id-3\" class=\"sk-toggleable__label sk-toggleable__label-arrow\">MultinomialNB</label><div class=\"sk-toggleable__content\"><pre>MultinomialNB()</pre></div></div></div></div></div>"
      ],
      "text/plain": [
       "MultinomialNB()"
      ]
     },
     "execution_count": 31,
     "metadata": {},
     "output_type": "execute_result"
    }
   ],
   "source": [
    "# Treinando o modelo\n",
    "\n",
    "nb.fit(dtm_train, labels_train)"
   ]
  },
  {
   "cell_type": "markdown",
   "id": "3364944f",
   "metadata": {},
   "source": []
  },
  {
   "cell_type": "code",
   "execution_count": 32,
   "id": "a557e4a8",
   "metadata": {
    "execution": {
     "iopub.execute_input": "2021-11-15T14:05:07.956549Z",
     "iopub.status.busy": "2021-11-15T14:05:07.955381Z",
     "iopub.status.idle": "2021-11-15T14:05:07.960490Z",
     "shell.execute_reply": "2021-11-15T14:05:07.961122Z",
     "shell.execute_reply.started": "2021-11-10T14:54:46.456428Z"
    },
    "papermill": {
     "duration": 0.032744,
     "end_time": "2021-11-15T14:05:07.961343",
     "exception": false,
     "start_time": "2021-11-15T14:05:07.928599",
     "status": "completed"
    },
    "tags": []
   },
   "outputs": [],
   "source": [
    "# Fazendo predições\n",
    "\n",
    "labels_pred = nb.predict(dtm_test)"
   ]
  },
  {
   "cell_type": "code",
   "execution_count": 33,
   "id": "ca338ef7",
   "metadata": {
    "execution": {
     "iopub.execute_input": "2021-11-15T14:05:08.013945Z",
     "iopub.status.busy": "2021-11-15T14:05:08.013022Z",
     "iopub.status.idle": "2021-11-15T14:05:08.020895Z",
     "shell.execute_reply": "2021-11-15T14:05:08.021455Z",
     "shell.execute_reply.started": "2021-11-10T14:54:46.465474Z"
    },
    "papermill": {
     "duration": 0.03582,
     "end_time": "2021-11-15T14:05:08.021667",
     "exception": false,
     "start_time": "2021-11-15T14:05:07.985847",
     "status": "completed"
    },
    "tags": []
   },
   "outputs": [
    {
     "data": {
      "text/plain": [
       "0.9847533632286996"
      ]
     },
     "execution_count": 33,
     "metadata": {},
     "output_type": "execute_result"
    }
   ],
   "source": [
    "# Acurácia\n",
    "from sklearn import metrics\n",
    "metrics.accuracy_score(labels_test, labels_pred)"
   ]
  },
  {
   "cell_type": "code",
   "execution_count": 34,
   "id": "0c1fe6d3",
   "metadata": {
    "execution": {
     "iopub.execute_input": "2021-11-15T14:05:08.074194Z",
     "iopub.status.busy": "2021-11-15T14:05:08.072824Z",
     "iopub.status.idle": "2021-11-15T14:05:08.083832Z",
     "shell.execute_reply": "2021-11-15T14:05:08.084537Z",
     "shell.execute_reply.started": "2021-11-10T14:54:46.483728Z"
    },
    "papermill": {
     "duration": 0.038406,
     "end_time": "2021-11-15T14:05:08.084779",
     "exception": false,
     "start_time": "2021-11-15T14:05:08.046373",
     "status": "completed"
    },
    "tags": []
   },
   "outputs": [
    {
     "data": {
      "text/plain": [
       "array([[966,   5],\n",
       "       [ 12, 132]])"
      ]
     },
     "execution_count": 34,
     "metadata": {},
     "output_type": "execute_result"
    }
   ],
   "source": [
    "# Criando a matrix de confusão para precisão e recall (essas são duas outrss métricas de avaliação) \n",
    "metrics.confusion_matrix(labels_test, labels_pred)"
   ]
  },
  {
   "cell_type": "code",
   "execution_count": 35,
   "id": "0a610761",
   "metadata": {
    "execution": {
     "iopub.execute_input": "2021-11-15T14:05:08.140260Z",
     "iopub.status.busy": "2021-11-15T14:05:08.139447Z",
     "iopub.status.idle": "2021-11-15T14:05:08.150314Z",
     "shell.execute_reply": "2021-11-15T14:05:08.151334Z",
     "shell.execute_reply.started": "2021-11-10T14:54:46.498663Z"
    },
    "papermill": {
     "duration": 0.041027,
     "end_time": "2021-11-15T14:05:08.151647",
     "exception": false,
     "start_time": "2021-11-15T14:05:08.110620",
     "status": "completed"
    },
    "tags": []
   },
   "outputs": [
    {
     "name": "stdout",
     "output_type": "stream",
     "text": [
      "Recall: 0.9166666666666666\n",
      "Precisão: 0.9635036496350365\n"
     ]
    }
   ],
   "source": [
    "# Percentagem do total de spams detectados i.e.recall\n",
    "print(\"Recall:\", metrics.recall_score(labels_test, labels_pred))\n",
    "\n",
    "# Percentagem das predições positivas (spams) corretas, i.e. precisão\n",
    "print(\"Precisão:\", metrics.precision_score(labels_test, labels_pred))"
   ]
  },
  {
   "cell_type": "code",
   "execution_count": 36,
   "id": "27211b86",
   "metadata": {
    "execution": {
     "iopub.execute_input": "2021-11-15T14:05:08.206878Z",
     "iopub.status.busy": "2021-11-15T14:05:08.204848Z",
     "iopub.status.idle": "2021-11-15T14:05:08.217507Z",
     "shell.execute_reply": "2021-11-15T14:05:08.215851Z",
     "shell.execute_reply.started": "2021-11-10T14:54:46.509847Z"
    },
    "papermill": {
     "duration": 0.039634,
     "end_time": "2021-11-15T14:05:08.217785",
     "exception": false,
     "start_time": "2021-11-15T14:05:08.178151",
     "status": "completed"
    },
    "tags": []
   },
   "outputs": [
    {
     "name": "stdout",
     "output_type": "stream",
     "text": [
      "Ordem das classes no predict_proba: [0 1]\n",
      "Exemplos de probabilidades de classes: [9.99870548e-01 1.29451948e-04]\n"
     ]
    }
   ],
   "source": [
    "print(\"Ordem das classes no predict_proba:\", nb.classes_)\n",
    "print(\"Exemplos de probabilidades de classes:\", nb.predict_proba(dtm_test)[0])\n"
   ]
  },
  {
   "cell_type": "code",
   "execution_count": 37,
   "id": "a54770c2",
   "metadata": {
    "execution": {
     "iopub.execute_input": "2021-11-15T14:05:08.272958Z",
     "iopub.status.busy": "2021-11-15T14:05:08.272140Z",
     "iopub.status.idle": "2021-11-15T14:05:08.280482Z",
     "shell.execute_reply": "2021-11-15T14:05:08.279743Z",
     "shell.execute_reply.started": "2021-11-10T14:54:46.522845Z"
    },
    "papermill": {
     "duration": 0.039217,
     "end_time": "2021-11-15T14:05:08.280655",
     "exception": false,
     "start_time": "2021-11-15T14:05:08.241438",
     "status": "completed"
    },
    "tags": []
   },
   "outputs": [],
   "source": [
    "# Uma vez que somente ~15% dos rótulos são positivos (spam), a curva precisão-recall é mais informativa que\n",
    "# a curva ROC\n",
    "\n",
    "labels_prob = nb.predict_proba(dtm_test)[:, 1]\n",
    "precisions, recalls, thresholds = metrics.precision_recall_curve(labels_test, labels_prob)"
   ]
  },
  {
   "cell_type": "code",
   "execution_count": 38,
   "id": "eeca8548",
   "metadata": {
    "execution": {
     "iopub.execute_input": "2021-11-15T14:05:08.349657Z",
     "iopub.status.busy": "2021-11-15T14:05:08.345103Z",
     "iopub.status.idle": "2021-11-15T14:05:08.808366Z",
     "shell.execute_reply": "2021-11-15T14:05:08.809577Z",
     "shell.execute_reply.started": "2021-11-10T14:54:46.535702Z"
    },
    "papermill": {
     "duration": 0.504082,
     "end_time": "2021-11-15T14:05:08.809871",
     "exception": false,
     "start_time": "2021-11-15T14:05:08.305789",
     "status": "completed"
    },
    "tags": []
   },
   "outputs": [
    {
     "data": {
      "image/png": "[encoded data removed]",
      "text/plain": [
       "<Figure size 1000x700 with 1 Axes>"
      ]
     },
     "metadata": {},
     "output_type": "display_data"
    }
   ],
   "source": [
    "# Plotando a curva precisão-recall \n",
    "\n",
    "import matplotlib.pyplot as plt\n",
    "plt.figure(figsize=(10, 7))\n",
    "plt.plot(precisions[:-1], recalls[:-1])\n",
    "plt.xlabel(\"Recalls\")\n",
    "plt.xticks(np.arange(0, 1.1, 0.1))\n",
    "plt.ylabel(\"Precisão\")\n",
    "plt.yticks(np.arange(0, 1.1, 0.1))\n",
    "plt.title(\"Curva Precisão-Recall\")\n",
    "plt.show()"
   ]
  }
 ],
 "metadata": {
  "kernelspec": {
   "display_name": "Python 3",
   "language": "python",
   "name": "python3"
  },
  "language_info": {
   "codemirror_mode": {
    "name": "ipython",
    "version": 3
   },
   "file_extension": ".py",
   "mimetype": "text/x-python",
   "name": "python",
   "nbconvert_exporter": "python",
   "pygments_lexer": "ipython3",
   "version": "3.11.4"
  },
  "papermill": {
   "default_parameters": {},
   "duration": 17.08365,
   "end_time": "2021-11-15T14:05:09.953000",
   "environment_variables": {},
   "exception": null,
   "input_path": "__notebook__.ipynb",
   "output_path": "__notebook__.ipynb",
   "parameters": {},
   "start_time": "2021-11-15T14:04:52.869350",
   "version": "2.3.3"
  }
 },
 "nbformat": 4,
 "nbformat_minor": 5
}
